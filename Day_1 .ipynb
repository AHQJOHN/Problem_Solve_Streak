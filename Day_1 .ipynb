{
 "cells": [
  {
   "cell_type": "code",
   "execution_count": null,
   "id": "b0e60fb8",
   "metadata": {},
   "outputs": [],
   "source": []
  },
  {
   "cell_type": "markdown",
   "id": "46520971",
   "metadata": {},
   "source": [
    "### Two Sum Problem"
   ]
  },
  {
   "cell_type": "code",
   "execution_count": 1,
   "id": "3b509a31",
   "metadata": {},
   "outputs": [],
   "source": [
    "def create_dic(l1):\n",
    "    ldic = {}\n",
    "    for i in range(len(l1)):\n",
    "        ldic.update({l1[i]:i})\n",
    "    return ldic"
   ]
  },
  {
   "cell_type": "code",
   "execution_count": 2,
   "id": "14f44994",
   "metadata": {},
   "outputs": [
    {
     "data": {
      "text/plain": [
       "{3: 1}"
      ]
     },
     "execution_count": 2,
     "metadata": {},
     "output_type": "execute_result"
    }
   ],
   "source": [
    "l1 = [3,3]\n",
    "new_dic = create_dic(l1)\n",
    "new_dic"
   ]
  },
  {
   "cell_type": "code",
   "execution_count": null,
   "id": "544dc84c",
   "metadata": {},
   "outputs": [],
   "source": [
    "print(index(3))"
   ]
  },
  {
   "cell_type": "code",
   "execution_count": 3,
   "id": "4c42f8e3",
   "metadata": {},
   "outputs": [],
   "source": [
    "target = 9\n",
    "out =[]"
   ]
  },
  {
   "cell_type": "code",
   "execution_count": 4,
   "id": "4ebae82f",
   "metadata": {
    "scrolled": true
   },
   "outputs": [
    {
     "name": "stdout",
     "output_type": "stream",
     "text": [
      "[]\n"
     ]
    },
    {
     "data": {
      "text/plain": [
       "[]"
      ]
     },
     "execution_count": 4,
     "metadata": {},
     "output_type": "execute_result"
    }
   ],
   "source": [
    "for key in new_dic:\n",
    "    print(out)\n",
    "    if key <= target:\n",
    "        if (target - key) in new_dic:\n",
    "            key_1 = target - key\n",
    "            print(key,key_1)\n",
    "            out.append(new_dic[key])\n",
    "            out.append(new_dic[key_1])\n",
    "            break\n",
    "out         "
   ]
  },
  {
   "cell_type": "code",
   "execution_count": 1,
   "id": "e56e031c",
   "metadata": {},
   "outputs": [],
   "source": [
    "# res_dic={}\n",
    "def Convert(a):\n",
    "    it = iter(a)\n",
    "    res_dct = dict(zip(a, it))\n",
    "    return res_dct"
   ]
  },
  {
   "cell_type": "code",
   "execution_count": 5,
   "id": "d5e2c750",
   "metadata": {},
   "outputs": [
    {
     "name": "stdout",
     "output_type": "stream",
     "text": [
      "<enumerate object at 0x0000013DEF70BB80>\n"
     ]
    }
   ],
   "source": [
    "l1 = [3,3]\n",
    "new_dic = Convert(l1)\n",
    "new_dic\n",
    "for enumerate(l1):"
   ]
  },
  {
   "cell_type": "code",
   "execution_count": 4,
   "id": "2b4213bc",
   "metadata": {},
   "outputs": [
    {
     "name": "stdout",
     "output_type": "stream",
     "text": [
      "False\n"
     ]
    },
    {
     "data": {
      "text/plain": [
       "[]"
      ]
     },
     "execution_count": 4,
     "metadata": {},
     "output_type": "execute_result"
    }
   ],
   "source": [
    "out =[]\n",
    "def create_dic(l1):\n",
    "    ldic = {}\n",
    "    for i in range(len(l1)):\n",
    "        ldic.update({l1[i]:i})\n",
    "    return ldic\n",
    "def twoSum( nums, target):\n",
    "    new_dic = create_dic(nums)\n",
    "    for key in new_dic:\n",
    "        #print(out)\n",
    "        if key <= target:\n",
    "            out =[]\n",
    "            key_1 = target - key\n",
    "            if key_1 == key:\n",
    "                \n",
    "            if (key_1 in new_dic) and (new_dic[key_1]!=new_dic[key]):\n",
    "                print(key,key_1)\n",
    "                out.append(new_dic[key])\n",
    "                out.append(new_dic[key_1])\n",
    "                break\n",
    "            else: continue\n",
    "                \n",
    "    return out\n",
    "o = twoSum([3,3],6)\n",
    "o"
   ]
  },
  {
   "cell_type": "code",
   "execution_count": 43,
   "id": "89f3e3e0",
   "metadata": {},
   "outputs": [
    {
     "name": "stdout",
     "output_type": "stream",
     "text": [
      "3\n"
     ]
    },
    {
     "data": {
      "text/plain": [
       "[0, 0]"
      ]
     },
     "execution_count": 43,
     "metadata": {},
     "output_type": "execute_result"
    }
   ],
   "source": []
  },
  {
   "cell_type": "code",
   "execution_count": null,
   "id": "a1b7444a",
   "metadata": {},
   "outputs": [],
   "source": [
    "def create_dic(l1):\n",
    "    ldic = {}\n",
    "    for i in range(len(l1)):\n",
    "        ldic.update({l1[i]:i})\n",
    "    return ldic\n",
    "out =[]\n",
    "class Solution(object):\n",
    "\n",
    "    def twoSum(self, nums: List[int], target: int) -> out:List[int]:\n",
    "        new_dic = create_dic(nums)\n",
    "        for key in new_dic:\n",
    "            if key <= target:\n",
    "                if (target - key) in new_dic:\n",
    "                    key_1 = target - key\n",
    "                    #print(key,key_1)\n",
    "                    out.append(new_dic[key])\n",
    "                    out.append(new_dic[key_1])\n",
    "            break\n",
    "        return out\n",
    "\n"
   ]
  },
  {
   "cell_type": "code",
   "execution_count": null,
   "id": "de20dd17",
   "metadata": {},
   "outputs": [],
   "source": []
  },
  {
   "cell_type": "code",
   "execution_count": 11,
   "id": "008ab76f",
   "metadata": {},
   "outputs": [
    {
     "data": {
      "text/plain": [
       "[1, 2]"
      ]
     },
     "execution_count": 11,
     "metadata": {},
     "output_type": "execute_result"
    }
   ],
   "source": [
    "def twoSum(nums,target):\n",
    "    for i in range(len(nums)):\n",
    "        if target - nums[i] in indexed_dict:\n",
    "            return [indexed_dict[target - nums[i]], i]\n",
    "        indexed_dict[nums[i]] = i\n",
    "    return []\n",
    "\n",
    "o = twoSum([2,3,3],6)\n",
    "o"
   ]
  },
  {
   "cell_type": "markdown",
   "id": "0798bf8b",
   "metadata": {},
   "source": [
    "### Best Time to Buy and Sell Stock"
   ]
  },
  {
   "cell_type": "code",
   "execution_count": null,
   "id": "9ac0b058",
   "metadata": {},
   "outputs": [],
   "source": []
  },
  {
   "cell_type": "code",
   "execution_count": null,
   "id": "c38f7aa4",
   "metadata": {},
   "outputs": [],
   "source": []
  },
  {
   "cell_type": "code",
   "execution_count": null,
   "id": "d27bbb6d",
   "metadata": {},
   "outputs": [],
   "source": []
  },
  {
   "cell_type": "code",
   "execution_count": null,
   "id": "571ae9fb",
   "metadata": {},
   "outputs": [],
   "source": []
  },
  {
   "cell_type": "code",
   "execution_count": null,
   "id": "4297df68",
   "metadata": {},
   "outputs": [],
   "source": []
  },
  {
   "cell_type": "code",
   "execution_count": null,
   "id": "fc31c121",
   "metadata": {},
   "outputs": [],
   "source": []
  },
  {
   "cell_type": "code",
   "execution_count": null,
   "id": "82fe61ac",
   "metadata": {},
   "outputs": [],
   "source": []
  },
  {
   "cell_type": "code",
   "execution_count": null,
   "id": "b2556ff1",
   "metadata": {},
   "outputs": [],
   "source": []
  },
  {
   "cell_type": "code",
   "execution_count": null,
   "id": "890ce462",
   "metadata": {},
   "outputs": [],
   "source": []
  },
  {
   "cell_type": "code",
   "execution_count": null,
   "id": "8550dbb6",
   "metadata": {},
   "outputs": [],
   "source": []
  },
  {
   "cell_type": "code",
   "execution_count": null,
   "id": "5c8b2d53",
   "metadata": {},
   "outputs": [],
   "source": []
  },
  {
   "cell_type": "code",
   "execution_count": null,
   "id": "11096d37",
   "metadata": {},
   "outputs": [],
   "source": []
  },
  {
   "cell_type": "code",
   "execution_count": null,
   "id": "cc64c7e8",
   "metadata": {},
   "outputs": [],
   "source": []
  },
  {
   "cell_type": "code",
   "execution_count": null,
   "id": "26c8b520",
   "metadata": {},
   "outputs": [],
   "source": []
  },
  {
   "cell_type": "code",
   "execution_count": null,
   "id": "3356ddde",
   "metadata": {},
   "outputs": [],
   "source": []
  }
 ],
 "metadata": {
  "kernelspec": {
   "display_name": "Python 3 (ipykernel)",
   "language": "python",
   "name": "python3"
  },
  "language_info": {
   "codemirror_mode": {
    "name": "ipython",
    "version": 3
   },
   "file_extension": ".py",
   "mimetype": "text/x-python",
   "name": "python",
   "nbconvert_exporter": "python",
   "pygments_lexer": "ipython3",
   "version": "3.9.7"
  }
 },
 "nbformat": 4,
 "nbformat_minor": 5
}
